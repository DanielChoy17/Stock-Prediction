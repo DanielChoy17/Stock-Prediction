{
  "nbformat": 4,
  "nbformat_minor": 0,
  "metadata": {
    "colab": {
      "provenance": [],
      "gpuType": "T4"
    },
    "kernelspec": {
      "name": "python3",
      "display_name": "Python 3"
    },
    "language_info": {
      "name": "python"
    },
    "accelerator": "GPU"
  },
  "cells": [
    {
      "cell_type": "markdown",
      "source": [
        "Imports"
      ],
      "metadata": {
        "id": "JExcuCpqP47T"
      }
    },
    {
      "cell_type": "code",
      "source": [
        "import pandas as pd\n",
        "import matplotlib.pyplot as plt\n",
        "%matplotlib inline\n",
        "%config InlineBackend.figure_format=\"retina\"\n",
        "import numpy as np\n",
        "from sklearn.model_selection import train_test_split\n",
        "from sklearn.metrics import mean_squared_error\n",
        "from sklearn.preprocessing import MinMaxScaler\n",
        "import datetime\n",
        "import random\n",
        "import torch\n",
        "from torch.utils.data import Dataset, DataLoader\n",
        "from torch import nn, optim\n",
        "import math\n",
        "from IPython import display\n",
        "import csv\n",
        "from copy import deepcopy as dc\n",
        "import time\n",
        "\n",
        "import yfinance as yf"
      ],
      "metadata": {
        "id": "M0CRyb36CCN4"
      },
      "execution_count": 1,
      "outputs": []
    },
    {
      "cell_type": "markdown",
      "source": [
        "Load the stock data into initial csv file for pre-processing using the Yahoo Finance Python library."
      ],
      "metadata": {
        "id": "qeEKitIXMF0f"
      }
    },
    {
      "cell_type": "code",
      "source": [
        "# Define the ticker symbol for Stock\n",
        "ticker_symbol = \"^GSPC\"\n",
        "\n",
        "# Set the start and end dates\n",
        "start_date = \"1982-04-20\"\n",
        "end_date = \"2023-06-07\"\n",
        "\n",
        "# Fetch the historical data from Yahoo Finance\n",
        "stock_data = yf.download(ticker_symbol, start=start_date, end=end_date)\n",
        "\n",
        "stock_data.to_csv(\"stock_data.csv\")\n",
        "\n",
        "api_data = [\"Open\",\"Close\"]\n",
        "\n",
        "# Extract only the \"Date\", \"Open\", and \"Close\" columns\n",
        "selected_data = stock_data[api_data].reset_index()\n",
        "\n",
        "# Save the selected data to a CSV file\n",
        "selected_data.to_csv(\"stock_data.csv\", index=False)"
      ],
      "metadata": {
        "colab": {
          "base_uri": "https://localhost:8080/"
        },
        "id": "Va1_9567CCWN",
        "outputId": "8d82cd31-a3a5-418e-97ef-505a8c23ef53"
      },
      "execution_count": 2,
      "outputs": [
        {
          "output_type": "stream",
          "name": "stdout",
          "text": [
            "\r[*********************100%***********************]  1 of 1 completed\n"
          ]
        }
      ]
    },
    {
      "cell_type": "markdown",
      "source": [
        "This function replaces the Open and Close column for one column called Average which contains the average of the open and close values for the corresponding day."
      ],
      "metadata": {
        "id": "JNCBtJGRMK4d"
      }
    },
    {
      "cell_type": "code",
      "source": [
        "def CSVAverage(input_file, output_file, column_iters):\n",
        "  firstLine = True\n",
        "  with open(input_file, 'r') as input_csv, open(output_file, 'w', newline='') as output_csv:\n",
        "    reader = csv.reader(input_csv)\n",
        "    writer = csv.writer(output_csv)\n",
        "\n",
        "    for line in reader:\n",
        "      if firstLine:\n",
        "        inst = [0, 0]\n",
        "        inst[0] = line[0]\n",
        "        inst[1] = \"Average\"\n",
        "        writer.writerow(inst)\n",
        "        firstLine = False\n",
        "        continue\n",
        "      inst = [0, 0]\n",
        "      inst[0] = line[0]\n",
        "      for x in range(column_iters):\n",
        "        inst[1] += float(line[x + 1])\n",
        "      inst[1] = float(inst[1])/column_iters\n",
        "      writer.writerow(inst)"
      ],
      "metadata": {
        "id": "GDIZ4i_mEMTP"
      },
      "execution_count": 3,
      "outputs": []
    },
    {
      "cell_type": "markdown",
      "source": [
        "Defines the function for loading n_steps number of inputs into a single row for each row. This is the function that makes the sequence for the model to look at."
      ],
      "metadata": {
        "id": "kGArGNl9MQAb"
      }
    },
    {
      "cell_type": "code",
      "source": [
        "def prep_dataframe(df, n_steps):\n",
        "  df = dc(df)\n",
        "\n",
        "  df.set_index('Date', inplace=True)\n",
        "\n",
        "  for i in range(1, n_steps+1):\n",
        "    df[f'Average(t-{i})'] = df['Average'].shift(i)\n",
        "\n",
        "  df.dropna(inplace=True)\n",
        "\n",
        "  return df"
      ],
      "metadata": {
        "id": "Az_jpdrMH_uB"
      },
      "execution_count": 4,
      "outputs": []
    },
    {
      "cell_type": "markdown",
      "source": [
        "Sets the files for inputs and outputs"
      ],
      "metadata": {
        "id": "sqpYH_FDMWLH"
      }
    },
    {
      "cell_type": "code",
      "source": [
        "# Get input and output file names\n",
        "input_file = \"stock_data.csv\"\n",
        "output_file = \"average_stock_data.csv\"\n",
        "\n",
        "# Printing input_file (Has Date, Open, and Close columns)\n",
        "input_data = pd.read_csv(input_file)\n",
        "input_data"
      ],
      "metadata": {
        "id": "McHvxLUeMYbu",
        "colab": {
          "base_uri": "https://localhost:8080/",
          "height": 424
        },
        "outputId": "d2217171-7aba-4208-d169-817e791fb211"
      },
      "execution_count": 5,
      "outputs": [
        {
          "output_type": "execute_result",
          "data": {
            "text/plain": [
              "             Date         Open        Close\n",
              "0      1982-04-20   115.800003   115.440002\n",
              "1      1982-04-21   115.480003   115.720001\n",
              "2      1982-04-22   115.720001   117.190002\n",
              "3      1982-04-23   118.019997   118.639999\n",
              "4      1982-04-26   118.940002   119.260002\n",
              "...           ...          ...          ...\n",
              "10365  2023-05-31  4190.740234  4179.830078\n",
              "10366  2023-06-01  4183.029785  4221.020020\n",
              "10367  2023-06-02  4241.009766  4282.370117\n",
              "10368  2023-06-05  4282.990234  4273.790039\n",
              "10369  2023-06-06  4271.339844  4283.850098\n",
              "\n",
              "[10370 rows x 3 columns]"
            ],
            "text/html": [
              "\n",
              "  <div id=\"df-bf88864b-82e2-49b3-b809-5d12af86da9d\">\n",
              "    <div class=\"colab-df-container\">\n",
              "      <div>\n",
              "<style scoped>\n",
              "    .dataframe tbody tr th:only-of-type {\n",
              "        vertical-align: middle;\n",
              "    }\n",
              "\n",
              "    .dataframe tbody tr th {\n",
              "        vertical-align: top;\n",
              "    }\n",
              "\n",
              "    .dataframe thead th {\n",
              "        text-align: right;\n",
              "    }\n",
              "</style>\n",
              "<table border=\"1\" class=\"dataframe\">\n",
              "  <thead>\n",
              "    <tr style=\"text-align: right;\">\n",
              "      <th></th>\n",
              "      <th>Date</th>\n",
              "      <th>Open</th>\n",
              "      <th>Close</th>\n",
              "    </tr>\n",
              "  </thead>\n",
              "  <tbody>\n",
              "    <tr>\n",
              "      <th>0</th>\n",
              "      <td>1982-04-20</td>\n",
              "      <td>115.800003</td>\n",
              "      <td>115.440002</td>\n",
              "    </tr>\n",
              "    <tr>\n",
              "      <th>1</th>\n",
              "      <td>1982-04-21</td>\n",
              "      <td>115.480003</td>\n",
              "      <td>115.720001</td>\n",
              "    </tr>\n",
              "    <tr>\n",
              "      <th>2</th>\n",
              "      <td>1982-04-22</td>\n",
              "      <td>115.720001</td>\n",
              "      <td>117.190002</td>\n",
              "    </tr>\n",
              "    <tr>\n",
              "      <th>3</th>\n",
              "      <td>1982-04-23</td>\n",
              "      <td>118.019997</td>\n",
              "      <td>118.639999</td>\n",
              "    </tr>\n",
              "    <tr>\n",
              "      <th>4</th>\n",
              "      <td>1982-04-26</td>\n",
              "      <td>118.940002</td>\n",
              "      <td>119.260002</td>\n",
              "    </tr>\n",
              "    <tr>\n",
              "      <th>...</th>\n",
              "      <td>...</td>\n",
              "      <td>...</td>\n",
              "      <td>...</td>\n",
              "    </tr>\n",
              "    <tr>\n",
              "      <th>10365</th>\n",
              "      <td>2023-05-31</td>\n",
              "      <td>4190.740234</td>\n",
              "      <td>4179.830078</td>\n",
              "    </tr>\n",
              "    <tr>\n",
              "      <th>10366</th>\n",
              "      <td>2023-06-01</td>\n",
              "      <td>4183.029785</td>\n",
              "      <td>4221.020020</td>\n",
              "    </tr>\n",
              "    <tr>\n",
              "      <th>10367</th>\n",
              "      <td>2023-06-02</td>\n",
              "      <td>4241.009766</td>\n",
              "      <td>4282.370117</td>\n",
              "    </tr>\n",
              "    <tr>\n",
              "      <th>10368</th>\n",
              "      <td>2023-06-05</td>\n",
              "      <td>4282.990234</td>\n",
              "      <td>4273.790039</td>\n",
              "    </tr>\n",
              "    <tr>\n",
              "      <th>10369</th>\n",
              "      <td>2023-06-06</td>\n",
              "      <td>4271.339844</td>\n",
              "      <td>4283.850098</td>\n",
              "    </tr>\n",
              "  </tbody>\n",
              "</table>\n",
              "<p>10370 rows × 3 columns</p>\n",
              "</div>\n",
              "      <button class=\"colab-df-convert\" onclick=\"convertToInteractive('df-bf88864b-82e2-49b3-b809-5d12af86da9d')\"\n",
              "              title=\"Convert this dataframe to an interactive table.\"\n",
              "              style=\"display:none;\">\n",
              "        \n",
              "  <svg xmlns=\"http://www.w3.org/2000/svg\" height=\"24px\"viewBox=\"0 0 24 24\"\n",
              "       width=\"24px\">\n",
              "    <path d=\"M0 0h24v24H0V0z\" fill=\"none\"/>\n",
              "    <path d=\"M18.56 5.44l.94 2.06.94-2.06 2.06-.94-2.06-.94-.94-2.06-.94 2.06-2.06.94zm-11 1L8.5 8.5l.94-2.06 2.06-.94-2.06-.94L8.5 2.5l-.94 2.06-2.06.94zm10 10l.94 2.06.94-2.06 2.06-.94-2.06-.94-.94-2.06-.94 2.06-2.06.94z\"/><path d=\"M17.41 7.96l-1.37-1.37c-.4-.4-.92-.59-1.43-.59-.52 0-1.04.2-1.43.59L10.3 9.45l-7.72 7.72c-.78.78-.78 2.05 0 2.83L4 21.41c.39.39.9.59 1.41.59.51 0 1.02-.2 1.41-.59l7.78-7.78 2.81-2.81c.8-.78.8-2.07 0-2.86zM5.41 20L4 18.59l7.72-7.72 1.47 1.35L5.41 20z\"/>\n",
              "  </svg>\n",
              "      </button>\n",
              "      \n",
              "  <style>\n",
              "    .colab-df-container {\n",
              "      display:flex;\n",
              "      flex-wrap:wrap;\n",
              "      gap: 12px;\n",
              "    }\n",
              "\n",
              "    .colab-df-convert {\n",
              "      background-color: #E8F0FE;\n",
              "      border: none;\n",
              "      border-radius: 50%;\n",
              "      cursor: pointer;\n",
              "      display: none;\n",
              "      fill: #1967D2;\n",
              "      height: 32px;\n",
              "      padding: 0 0 0 0;\n",
              "      width: 32px;\n",
              "    }\n",
              "\n",
              "    .colab-df-convert:hover {\n",
              "      background-color: #E2EBFA;\n",
              "      box-shadow: 0px 1px 2px rgba(60, 64, 67, 0.3), 0px 1px 3px 1px rgba(60, 64, 67, 0.15);\n",
              "      fill: #174EA6;\n",
              "    }\n",
              "\n",
              "    [theme=dark] .colab-df-convert {\n",
              "      background-color: #3B4455;\n",
              "      fill: #D2E3FC;\n",
              "    }\n",
              "\n",
              "    [theme=dark] .colab-df-convert:hover {\n",
              "      background-color: #434B5C;\n",
              "      box-shadow: 0px 1px 3px 1px rgba(0, 0, 0, 0.15);\n",
              "      filter: drop-shadow(0px 1px 2px rgba(0, 0, 0, 0.3));\n",
              "      fill: #FFFFFF;\n",
              "    }\n",
              "  </style>\n",
              "\n",
              "      <script>\n",
              "        const buttonEl =\n",
              "          document.querySelector('#df-bf88864b-82e2-49b3-b809-5d12af86da9d button.colab-df-convert');\n",
              "        buttonEl.style.display =\n",
              "          google.colab.kernel.accessAllowed ? 'block' : 'none';\n",
              "\n",
              "        async function convertToInteractive(key) {\n",
              "          const element = document.querySelector('#df-bf88864b-82e2-49b3-b809-5d12af86da9d');\n",
              "          const dataTable =\n",
              "            await google.colab.kernel.invokeFunction('convertToInteractive',\n",
              "                                                     [key], {});\n",
              "          if (!dataTable) return;\n",
              "\n",
              "          const docLinkHtml = 'Like what you see? Visit the ' +\n",
              "            '<a target=\"_blank\" href=https://colab.research.google.com/notebooks/data_table.ipynb>data table notebook</a>'\n",
              "            + ' to learn more about interactive tables.';\n",
              "          element.innerHTML = '';\n",
              "          dataTable['output_type'] = 'display_data';\n",
              "          await google.colab.output.renderOutput(dataTable, element);\n",
              "          const docLink = document.createElement('div');\n",
              "          docLink.innerHTML = docLinkHtml;\n",
              "          element.appendChild(docLink);\n",
              "        }\n",
              "      </script>\n",
              "    </div>\n",
              "  </div>\n",
              "  "
            ]
          },
          "metadata": {},
          "execution_count": 5
        }
      ]
    },
    {
      "cell_type": "markdown",
      "source": [
        "Call the CSVAverage function to get a new file that contains a Date and Average column."
      ],
      "metadata": {
        "id": "cW9o7D6IMhBc"
      }
    },
    {
      "cell_type": "code",
      "source": [
        "CSVAverage(input_file, output_file, len(api_data))\n",
        "\n",
        "# Printing the output_file (Has Date and Average columns)\n",
        "stock_data = pd.read_csv(output_file)\n",
        "stock_data"
      ],
      "metadata": {
        "id": "AUH9nBGc9tLU",
        "colab": {
          "base_uri": "https://localhost:8080/",
          "height": 424
        },
        "outputId": "7d11c42d-1912-4a5e-ca1c-42f1c7169082"
      },
      "execution_count": 6,
      "outputs": [
        {
          "output_type": "execute_result",
          "data": {
            "text/plain": [
              "             Date      Average\n",
              "0      1982-04-20   115.620003\n",
              "1      1982-04-21   115.600002\n",
              "2      1982-04-22   116.455002\n",
              "3      1982-04-23   118.329998\n",
              "4      1982-04-26   119.100002\n",
              "...           ...          ...\n",
              "10365  2023-05-31  4185.285156\n",
              "10366  2023-06-01  4202.024902\n",
              "10367  2023-06-02  4261.689941\n",
              "10368  2023-06-05  4278.390137\n",
              "10369  2023-06-06  4277.594971\n",
              "\n",
              "[10370 rows x 2 columns]"
            ],
            "text/html": [
              "\n",
              "  <div id=\"df-25493c9c-19c7-431b-9508-31919cad70ad\">\n",
              "    <div class=\"colab-df-container\">\n",
              "      <div>\n",
              "<style scoped>\n",
              "    .dataframe tbody tr th:only-of-type {\n",
              "        vertical-align: middle;\n",
              "    }\n",
              "\n",
              "    .dataframe tbody tr th {\n",
              "        vertical-align: top;\n",
              "    }\n",
              "\n",
              "    .dataframe thead th {\n",
              "        text-align: right;\n",
              "    }\n",
              "</style>\n",
              "<table border=\"1\" class=\"dataframe\">\n",
              "  <thead>\n",
              "    <tr style=\"text-align: right;\">\n",
              "      <th></th>\n",
              "      <th>Date</th>\n",
              "      <th>Average</th>\n",
              "    </tr>\n",
              "  </thead>\n",
              "  <tbody>\n",
              "    <tr>\n",
              "      <th>0</th>\n",
              "      <td>1982-04-20</td>\n",
              "      <td>115.620003</td>\n",
              "    </tr>\n",
              "    <tr>\n",
              "      <th>1</th>\n",
              "      <td>1982-04-21</td>\n",
              "      <td>115.600002</td>\n",
              "    </tr>\n",
              "    <tr>\n",
              "      <th>2</th>\n",
              "      <td>1982-04-22</td>\n",
              "      <td>116.455002</td>\n",
              "    </tr>\n",
              "    <tr>\n",
              "      <th>3</th>\n",
              "      <td>1982-04-23</td>\n",
              "      <td>118.329998</td>\n",
              "    </tr>\n",
              "    <tr>\n",
              "      <th>4</th>\n",
              "      <td>1982-04-26</td>\n",
              "      <td>119.100002</td>\n",
              "    </tr>\n",
              "    <tr>\n",
              "      <th>...</th>\n",
              "      <td>...</td>\n",
              "      <td>...</td>\n",
              "    </tr>\n",
              "    <tr>\n",
              "      <th>10365</th>\n",
              "      <td>2023-05-31</td>\n",
              "      <td>4185.285156</td>\n",
              "    </tr>\n",
              "    <tr>\n",
              "      <th>10366</th>\n",
              "      <td>2023-06-01</td>\n",
              "      <td>4202.024902</td>\n",
              "    </tr>\n",
              "    <tr>\n",
              "      <th>10367</th>\n",
              "      <td>2023-06-02</td>\n",
              "      <td>4261.689941</td>\n",
              "    </tr>\n",
              "    <tr>\n",
              "      <th>10368</th>\n",
              "      <td>2023-06-05</td>\n",
              "      <td>4278.390137</td>\n",
              "    </tr>\n",
              "    <tr>\n",
              "      <th>10369</th>\n",
              "      <td>2023-06-06</td>\n",
              "      <td>4277.594971</td>\n",
              "    </tr>\n",
              "  </tbody>\n",
              "</table>\n",
              "<p>10370 rows × 2 columns</p>\n",
              "</div>\n",
              "      <button class=\"colab-df-convert\" onclick=\"convertToInteractive('df-25493c9c-19c7-431b-9508-31919cad70ad')\"\n",
              "              title=\"Convert this dataframe to an interactive table.\"\n",
              "              style=\"display:none;\">\n",
              "        \n",
              "  <svg xmlns=\"http://www.w3.org/2000/svg\" height=\"24px\"viewBox=\"0 0 24 24\"\n",
              "       width=\"24px\">\n",
              "    <path d=\"M0 0h24v24H0V0z\" fill=\"none\"/>\n",
              "    <path d=\"M18.56 5.44l.94 2.06.94-2.06 2.06-.94-2.06-.94-.94-2.06-.94 2.06-2.06.94zm-11 1L8.5 8.5l.94-2.06 2.06-.94-2.06-.94L8.5 2.5l-.94 2.06-2.06.94zm10 10l.94 2.06.94-2.06 2.06-.94-2.06-.94-.94-2.06-.94 2.06-2.06.94z\"/><path d=\"M17.41 7.96l-1.37-1.37c-.4-.4-.92-.59-1.43-.59-.52 0-1.04.2-1.43.59L10.3 9.45l-7.72 7.72c-.78.78-.78 2.05 0 2.83L4 21.41c.39.39.9.59 1.41.59.51 0 1.02-.2 1.41-.59l7.78-7.78 2.81-2.81c.8-.78.8-2.07 0-2.86zM5.41 20L4 18.59l7.72-7.72 1.47 1.35L5.41 20z\"/>\n",
              "  </svg>\n",
              "      </button>\n",
              "      \n",
              "  <style>\n",
              "    .colab-df-container {\n",
              "      display:flex;\n",
              "      flex-wrap:wrap;\n",
              "      gap: 12px;\n",
              "    }\n",
              "\n",
              "    .colab-df-convert {\n",
              "      background-color: #E8F0FE;\n",
              "      border: none;\n",
              "      border-radius: 50%;\n",
              "      cursor: pointer;\n",
              "      display: none;\n",
              "      fill: #1967D2;\n",
              "      height: 32px;\n",
              "      padding: 0 0 0 0;\n",
              "      width: 32px;\n",
              "    }\n",
              "\n",
              "    .colab-df-convert:hover {\n",
              "      background-color: #E2EBFA;\n",
              "      box-shadow: 0px 1px 2px rgba(60, 64, 67, 0.3), 0px 1px 3px 1px rgba(60, 64, 67, 0.15);\n",
              "      fill: #174EA6;\n",
              "    }\n",
              "\n",
              "    [theme=dark] .colab-df-convert {\n",
              "      background-color: #3B4455;\n",
              "      fill: #D2E3FC;\n",
              "    }\n",
              "\n",
              "    [theme=dark] .colab-df-convert:hover {\n",
              "      background-color: #434B5C;\n",
              "      box-shadow: 0px 1px 3px 1px rgba(0, 0, 0, 0.15);\n",
              "      filter: drop-shadow(0px 1px 2px rgba(0, 0, 0, 0.3));\n",
              "      fill: #FFFFFF;\n",
              "    }\n",
              "  </style>\n",
              "\n",
              "      <script>\n",
              "        const buttonEl =\n",
              "          document.querySelector('#df-25493c9c-19c7-431b-9508-31919cad70ad button.colab-df-convert');\n",
              "        buttonEl.style.display =\n",
              "          google.colab.kernel.accessAllowed ? 'block' : 'none';\n",
              "\n",
              "        async function convertToInteractive(key) {\n",
              "          const element = document.querySelector('#df-25493c9c-19c7-431b-9508-31919cad70ad');\n",
              "          const dataTable =\n",
              "            await google.colab.kernel.invokeFunction('convertToInteractive',\n",
              "                                                     [key], {});\n",
              "          if (!dataTable) return;\n",
              "\n",
              "          const docLinkHtml = 'Like what you see? Visit the ' +\n",
              "            '<a target=\"_blank\" href=https://colab.research.google.com/notebooks/data_table.ipynb>data table notebook</a>'\n",
              "            + ' to learn more about interactive tables.';\n",
              "          element.innerHTML = '';\n",
              "          dataTable['output_type'] = 'display_data';\n",
              "          await google.colab.output.renderOutput(dataTable, element);\n",
              "          const docLink = document.createElement('div');\n",
              "          docLink.innerHTML = docLinkHtml;\n",
              "          element.appendChild(docLink);\n",
              "        }\n",
              "      </script>\n",
              "    </div>\n",
              "  </div>\n",
              "  "
            ]
          },
          "metadata": {},
          "execution_count": 6
        }
      ]
    },
    {
      "cell_type": "markdown",
      "source": [
        "Plotting Stock Data (Date, Average Price)"
      ],
      "metadata": {
        "id": "ExVKM5q9X7tj"
      }
    },
    {
      "cell_type": "code",
      "source": [
        "stock_data['Date'] = pd.to_datetime(stock_data['Date'])\n",
        "\n",
        "plt.plot(stock_data['Date'], stock_data['Average'])"
      ],
      "metadata": {
        "colab": {
          "base_uri": "https://localhost:8080/",
          "height": 450
        },
        "id": "rbEPFF1MCCdQ",
        "outputId": "54f103f1-a933-4171-9610-f002a627643b"
      },
      "execution_count": 7,
      "outputs": [
        {
          "output_type": "execute_result",
          "data": {
            "text/plain": [
              "[<matplotlib.lines.Line2D at 0x7f7a16a39810>]"
            ]
          },
          "metadata": {},
          "execution_count": 7
        },
        {
          "output_type": "display_data",
          "data": {
            "text/plain": [
              "<Figure size 640x480 with 1 Axes>"
            ],
            "image/png": "[encoded data removed]"
          },
          "metadata": {
            "image/png": {
              "width": 573,
              "height": 416
            }
          }
        }
      ]
    },
    {
      "cell_type": "markdown",
      "source": [
        "Defining how many days of lookback (time sequence) the model will have as input data for the given day it is trying to predict the average price for."
      ],
      "metadata": {
        "id": "HAV4tMXINB1p"
      }
    },
    {
      "cell_type": "code",
      "source": [
        "lookback = 25\n",
        "\n",
        "shifted_df = prep_dataframe(stock_data, lookback)\n",
        "shifted_df"
      ],
      "metadata": {
        "colab": {
          "base_uri": "https://localhost:8080/",
          "height": 710
        },
        "id": "OsnDETbTCCfX",
        "outputId": "530379fe-b0a1-4b1d-9f95-0106f3841a9f"
      },
      "execution_count": 8,
      "outputs": [
        {
          "output_type": "execute_result",
          "data": {
            "text/plain": [
              "                Average  Average(t-1)  Average(t-2)  Average(t-3)  \\\n",
              "Date                                                                \n",
              "1982-05-25   114.950001    114.625000    114.959999    114.719997   \n",
              "1982-05-26   113.395000    114.950001    114.625000    114.959999   \n",
              "1982-05-27   112.885002    113.395000    114.950001    114.625000   \n",
              "1982-05-28   112.334999    112.885002    113.395000    114.950001   \n",
              "1982-06-01   111.825001    112.334999    112.885002    113.395000   \n",
              "...                 ...           ...           ...           ...   \n",
              "2023-05-31  4185.285156   4216.114990   4180.805176   4153.494873   \n",
              "2023-06-01  4202.024902   4185.285156   4216.114990   4180.805176   \n",
              "2023-06-02  4261.689941   4202.024902   4185.285156   4216.114990   \n",
              "2023-06-05  4278.390137   4261.689941   4202.024902   4185.285156   \n",
              "2023-06-06  4277.594971   4278.390137   4261.689941   4202.024902   \n",
              "\n",
              "            Average(t-4)  Average(t-5)  Average(t-6)  Average(t-7)  \\\n",
              "Date                                                                 \n",
              "1982-05-25    115.250000    116.094997    117.165001    118.105000   \n",
              "1982-05-26    114.719997    115.250000    116.094997    117.165001   \n",
              "1982-05-27    114.959999    114.719997    115.250000    116.094997   \n",
              "1982-05-28    114.625000    114.959999    114.719997    115.250000   \n",
              "1982-06-01    114.950001    114.625000    114.959999    114.719997   \n",
              "...                  ...           ...           ...           ...   \n",
              "2023-05-31   4124.100098   4161.189941   4191.704834   4198.064941   \n",
              "2023-06-01   4153.494873   4124.100098   4161.189941   4191.704834   \n",
              "2023-06-02   4180.805176   4153.494873   4124.100098   4161.189941   \n",
              "2023-06-05   4216.114990   4180.805176   4153.494873   4124.100098   \n",
              "2023-06-06   4185.285156   4216.114990   4180.805176   4153.494873   \n",
              "\n",
              "            Average(t-8)  Average(t-9)  ...  Average(t-16)  Average(t-17)  \\\n",
              "Date                                    ...                                 \n",
              "1982-05-25    118.650002    119.529999  ...     116.389999     116.325001   \n",
              "1982-05-26    118.105000    118.650002  ...     117.435001     116.389999   \n",
              "1982-05-27    117.165001    118.105000  ...     117.759998     117.435001   \n",
              "1982-05-28    116.094997    117.165001  ...     118.750000     117.759998   \n",
              "1982-06-01    115.250000    116.094997  ...     119.275002     118.750000   \n",
              "...                  ...           ...  ...            ...            ...   \n",
              "2023-05-31   4177.864990   4140.810059  ...    4137.550049    4110.489990   \n",
              "2023-06-01   4198.064941   4177.864990  ...    4121.709961    4137.550049   \n",
              "2023-06-02   4191.704834   4198.064941  ...    4140.690186    4121.709961   \n",
              "2023-06-05   4161.189941   4191.704834  ...    4131.430176    4140.690186   \n",
              "2023-06-06   4124.100098   4161.189941  ...    4131.310059    4131.430176   \n",
              "\n",
              "            Average(t-18)  Average(t-19)  Average(t-20)  Average(t-21)  \\\n",
              "Date                                                                     \n",
              "1982-05-25     116.270000     117.545002     118.535000     119.100002   \n",
              "1982-05-26     116.325001     116.270000     117.545002     118.535000   \n",
              "1982-05-27     116.389999     116.325001     116.270000     117.545002   \n",
              "1982-05-28     117.435001     116.389999     116.325001     116.270000   \n",
              "1982-06-01     117.759998     117.435001     116.389999     116.325001   \n",
              "...                   ...            ...            ...            ...   \n",
              "2023-05-31    4071.885010    4106.500000    4141.840088    4167.330078   \n",
              "2023-06-01    4110.489990    4071.885010    4106.500000    4141.840088   \n",
              "2023-06-02    4137.550049    4110.489990    4071.885010    4106.500000   \n",
              "2023-06-05    4121.709961    4137.550049    4110.489990    4071.885010   \n",
              "2023-06-06    4140.690186    4121.709961    4137.550049    4110.489990   \n",
              "\n",
              "            Average(t-22)  Average(t-23)  Average(t-24)  Average(t-25)  \n",
              "Date                                                                    \n",
              "1982-05-25     118.329998     116.455002     115.600002     115.620003  \n",
              "1982-05-26     119.100002     118.329998     116.455002     115.600002  \n",
              "1982-05-27     118.535000     119.100002     118.329998     116.455002  \n",
              "1982-05-28     117.545002     118.535000     119.100002     118.329998  \n",
              "1982-06-01     116.270000     117.545002     118.535000     119.100002  \n",
              "...                   ...            ...            ...            ...  \n",
              "2023-05-31    4149.554932    4105.320068    4071.885010    4099.030029  \n",
              "2023-06-01    4167.330078    4149.554932    4105.320068    4071.885010  \n",
              "2023-06-02    4141.840088    4167.330078    4149.554932    4105.320068  \n",
              "2023-06-05    4106.500000    4141.840088    4167.330078    4149.554932  \n",
              "2023-06-06    4071.885010    4106.500000    4141.840088    4167.330078  \n",
              "\n",
              "[10345 rows x 26 columns]"
            ],
            "text/html": [
              "\n",
              "  <div id=\"df-7339abac-0245-4460-9aa6-b28786b693f7\">\n",
              "    <div class=\"colab-df-container\">\n",
              "      <div>\n",
              "<style scoped>\n",
              "    .dataframe tbody tr th:only-of-type {\n",
              "        vertical-align: middle;\n",
              "    }\n",
              "\n",
              "    .dataframe tbody tr th {\n",
              "        vertical-align: top;\n",
              "    }\n",
              "\n",
              "    .dataframe thead th {\n",
              "        text-align: right;\n",
              "    }\n",
              "</style>\n",
              "<table border=\"1\" class=\"dataframe\">\n",
              "  <thead>\n",
              "    <tr style=\"text-align: right;\">\n",
              "      <th></th>\n",
              "      <th>Average</th>\n",
              "      <th>Average(t-1)</th>\n",
              "      <th>Average(t-2)</th>\n",
              "      <th>Average(t-3)</th>\n",
              "      <th>Average(t-4)</th>\n",
              "      <th>Average(t-5)</th>\n",
              "      <th>Average(t-6)</th>\n",
              "      <th>Average(t-7)</th>\n",
              "      <th>Average(t-8)</th>\n",
              "      <th>Average(t-9)</th>\n",
              "      <th>...</th>\n",
              "      <th>Average(t-16)</th>\n",
              "      <th>Average(t-17)</th>\n",
              "      <th>Average(t-18)</th>\n",
              "      <th>Average(t-19)</th>\n",
              "      <th>Average(t-20)</th>\n",
              "      <th>Average(t-21)</th>\n",
              "      <th>Average(t-22)</th>\n",
              "      <th>Average(t-23)</th>\n",
              "      <th>Average(t-24)</th>\n",
              "      <th>Average(t-25)</th>\n",
              "    </tr>\n",
              "    <tr>\n",
              "      <th>Date</th>\n",
              "      <th></th>\n",
              "      <th></th>\n",
              "      <th></th>\n",
              "      <th></th>\n",
              "      <th></th>\n",
              "      <th></th>\n",
              "      <th></th>\n",
              "      <th></th>\n",
              "      <th></th>\n",
              "      <th></th>\n",
              "      <th></th>\n",
              "      <th></th>\n",
              "      <th></th>\n",
              "      <th></th>\n",
              "      <th></th>\n",
              "      <th></th>\n",
              "      <th></th>\n",
              "      <th></th>\n",
              "      <th></th>\n",
              "      <th></th>\n",
              "      <th></th>\n",
              "    </tr>\n",
              "  </thead>\n",
              "  <tbody>\n",
              "    <tr>\n",
              "      <th>1982-05-25</th>\n",
              "      <td>114.950001</td>\n",
              "      <td>114.625000</td>\n",
              "      <td>114.959999</td>\n",
              "      <td>114.719997</td>\n",
              "      <td>115.250000</td>\n",
              "      <td>116.094997</td>\n",
              "      <td>117.165001</td>\n",
              "      <td>118.105000</td>\n",
              "      <td>118.650002</td>\n",
              "      <td>119.529999</td>\n",
              "      <td>...</td>\n",
              "      <td>116.389999</td>\n",
              "      <td>116.325001</td>\n",
              "      <td>116.270000</td>\n",
              "      <td>117.545002</td>\n",
              "      <td>118.535000</td>\n",
              "      <td>119.100002</td>\n",
              "      <td>118.329998</td>\n",
              "      <td>116.455002</td>\n",
              "      <td>115.600002</td>\n",
              "      <td>115.620003</td>\n",
              "    </tr>\n",
              "    <tr>\n",
              "      <th>1982-05-26</th>\n",
              "      <td>113.395000</td>\n",
              "      <td>114.950001</td>\n",
              "      <td>114.625000</td>\n",
              "      <td>114.959999</td>\n",
              "      <td>114.719997</td>\n",
              "      <td>115.250000</td>\n",
              "      <td>116.094997</td>\n",
              "      <td>117.165001</td>\n",
              "      <td>118.105000</td>\n",
              "      <td>118.650002</td>\n",
              "      <td>...</td>\n",
              "      <td>117.435001</td>\n",
              "      <td>116.389999</td>\n",
              "      <td>116.325001</td>\n",
              "      <td>116.270000</td>\n",
              "      <td>117.545002</td>\n",
              "      <td>118.535000</td>\n",
              "      <td>119.100002</td>\n",
              "      <td>118.329998</td>\n",
              "      <td>116.455002</td>\n",
              "      <td>115.600002</td>\n",
              "    </tr>\n",
              "    <tr>\n",
              "      <th>1982-05-27</th>\n",
              "      <td>112.885002</td>\n",
              "      <td>113.395000</td>\n",
              "      <td>114.950001</td>\n",
              "      <td>114.625000</td>\n",
              "      <td>114.959999</td>\n",
              "      <td>114.719997</td>\n",
              "      <td>115.250000</td>\n",
              "      <td>116.094997</td>\n",
              "      <td>117.165001</td>\n",
              "      <td>118.105000</td>\n",
              "      <td>...</td>\n",
              "      <td>117.759998</td>\n",
              "      <td>117.435001</td>\n",
              "      <td>116.389999</td>\n",
              "      <td>116.325001</td>\n",
              "      <td>116.270000</td>\n",
              "      <td>117.545002</td>\n",
              "      <td>118.535000</td>\n",
              "      <td>119.100002</td>\n",
              "      <td>118.329998</td>\n",
              "      <td>116.455002</td>\n",
              "    </tr>\n",
              "    <tr>\n",
              "      <th>1982-05-28</th>\n",
              "      <td>112.334999</td>\n",
              "      <td>112.885002</td>\n",
              "      <td>113.395000</td>\n",
              "      <td>114.950001</td>\n",
              "      <td>114.625000</td>\n",
              "      <td>114.959999</td>\n",
              "      <td>114.719997</td>\n",
              "      <td>115.250000</td>\n",
              "      <td>116.094997</td>\n",
              "      <td>117.165001</td>\n",
              "      <td>...</td>\n",
              "      <td>118.750000</td>\n",
              "      <td>117.759998</td>\n",
              "      <td>117.435001</td>\n",
              "      <td>116.389999</td>\n",
              "      <td>116.325001</td>\n",
              "      <td>116.270000</td>\n",
              "      <td>117.545002</td>\n",
              "      <td>118.535000</td>\n",
              "      <td>119.100002</td>\n",
              "      <td>118.329998</td>\n",
              "    </tr>\n",
              "    <tr>\n",
              "      <th>1982-06-01</th>\n",
              "      <td>111.825001</td>\n",
              "      <td>112.334999</td>\n",
              "      <td>112.885002</td>\n",
              "      <td>113.395000</td>\n",
              "      <td>114.950001</td>\n",
              "      <td>114.625000</td>\n",
              "      <td>114.959999</td>\n",
              "      <td>114.719997</td>\n",
              "      <td>115.250000</td>\n",
              "      <td>116.094997</td>\n",
              "      <td>...</td>\n",
              "      <td>119.275002</td>\n",
              "      <td>118.750000</td>\n",
              "      <td>117.759998</td>\n",
              "      <td>117.435001</td>\n",
              "      <td>116.389999</td>\n",
              "      <td>116.325001</td>\n",
              "      <td>116.270000</td>\n",
              "      <td>117.545002</td>\n",
              "      <td>118.535000</td>\n",
              "      <td>119.100002</td>\n",
              "    </tr>\n",
              "    <tr>\n",
              "      <th>...</th>\n",
              "      <td>...</td>\n",
              "      <td>...</td>\n",
              "      <td>...</td>\n",
              "      <td>...</td>\n",
              "      <td>...</td>\n",
              "      <td>...</td>\n",
              "      <td>...</td>\n",
              "      <td>...</td>\n",
              "      <td>...</td>\n",
              "      <td>...</td>\n",
              "      <td>...</td>\n",
              "      <td>...</td>\n",
              "      <td>...</td>\n",
              "      <td>...</td>\n",
              "      <td>...</td>\n",
              "      <td>...</td>\n",
              "      <td>...</td>\n",
              "      <td>...</td>\n",
              "      <td>...</td>\n",
              "      <td>...</td>\n",
              "      <td>...</td>\n",
              "    </tr>\n",
              "    <tr>\n",
              "      <th>2023-05-31</th>\n",
              "      <td>4185.285156</td>\n",
              "      <td>4216.114990</td>\n",
              "      <td>4180.805176</td>\n",
              "      <td>4153.494873</td>\n",
              "      <td>4124.100098</td>\n",
              "      <td>4161.189941</td>\n",
              "      <td>4191.704834</td>\n",
              "      <td>4198.064941</td>\n",
              "      <td>4177.864990</td>\n",
              "      <td>4140.810059</td>\n",
              "      <td>...</td>\n",
              "      <td>4137.550049</td>\n",
              "      <td>4110.489990</td>\n",
              "      <td>4071.885010</td>\n",
              "      <td>4106.500000</td>\n",
              "      <td>4141.840088</td>\n",
              "      <td>4167.330078</td>\n",
              "      <td>4149.554932</td>\n",
              "      <td>4105.320068</td>\n",
              "      <td>4071.885010</td>\n",
              "      <td>4099.030029</td>\n",
              "    </tr>\n",
              "    <tr>\n",
              "      <th>2023-06-01</th>\n",
              "      <td>4202.024902</td>\n",
              "      <td>4185.285156</td>\n",
              "      <td>4216.114990</td>\n",
              "      <td>4180.805176</td>\n",
              "      <td>4153.494873</td>\n",
              "      <td>4124.100098</td>\n",
              "      <td>4161.189941</td>\n",
              "      <td>4191.704834</td>\n",
              "      <td>4198.064941</td>\n",
              "      <td>4177.864990</td>\n",
              "      <td>...</td>\n",
              "      <td>4121.709961</td>\n",
              "      <td>4137.550049</td>\n",
              "      <td>4110.489990</td>\n",
              "      <td>4071.885010</td>\n",
              "      <td>4106.500000</td>\n",
              "      <td>4141.840088</td>\n",
              "      <td>4167.330078</td>\n",
              "      <td>4149.554932</td>\n",
              "      <td>4105.320068</td>\n",
              "      <td>4071.885010</td>\n",
              "    </tr>\n",
              "    <tr>\n",
              "      <th>2023-06-02</th>\n",
              "      <td>4261.689941</td>\n",
              "      <td>4202.024902</td>\n",
              "      <td>4185.285156</td>\n",
              "      <td>4216.114990</td>\n",
              "      <td>4180.805176</td>\n",
              "      <td>4153.494873</td>\n",
              "      <td>4124.100098</td>\n",
              "      <td>4161.189941</td>\n",
              "      <td>4191.704834</td>\n",
              "      <td>4198.064941</td>\n",
              "      <td>...</td>\n",
              "      <td>4140.690186</td>\n",
              "      <td>4121.709961</td>\n",
              "      <td>4137.550049</td>\n",
              "      <td>4110.489990</td>\n",
              "      <td>4071.885010</td>\n",
              "      <td>4106.500000</td>\n",
              "      <td>4141.840088</td>\n",
              "      <td>4167.330078</td>\n",
              "      <td>4149.554932</td>\n",
              "      <td>4105.320068</td>\n",
              "    </tr>\n",
              "    <tr>\n",
              "      <th>2023-06-05</th>\n",
              "      <td>4278.390137</td>\n",
              "      <td>4261.689941</td>\n",
              "      <td>4202.024902</td>\n",
              "      <td>4185.285156</td>\n",
              "      <td>4216.114990</td>\n",
              "      <td>4180.805176</td>\n",
              "      <td>4153.494873</td>\n",
              "      <td>4124.100098</td>\n",
              "      <td>4161.189941</td>\n",
              "      <td>4191.704834</td>\n",
              "      <td>...</td>\n",
              "      <td>4131.430176</td>\n",
              "      <td>4140.690186</td>\n",
              "      <td>4121.709961</td>\n",
              "      <td>4137.550049</td>\n",
              "      <td>4110.489990</td>\n",
              "      <td>4071.885010</td>\n",
              "      <td>4106.500000</td>\n",
              "      <td>4141.840088</td>\n",
              "      <td>4167.330078</td>\n",
              "      <td>4149.554932</td>\n",
              "    </tr>\n",
              "    <tr>\n",
              "      <th>2023-06-06</th>\n",
              "      <td>4277.594971</td>\n",
              "      <td>4278.390137</td>\n",
              "      <td>4261.689941</td>\n",
              "      <td>4202.024902</td>\n",
              "      <td>4185.285156</td>\n",
              "      <td>4216.114990</td>\n",
              "      <td>4180.805176</td>\n",
              "      <td>4153.494873</td>\n",
              "      <td>4124.100098</td>\n",
              "      <td>4161.189941</td>\n",
              "      <td>...</td>\n",
              "      <td>4131.310059</td>\n",
              "      <td>4131.430176</td>\n",
              "      <td>4140.690186</td>\n",
              "      <td>4121.709961</td>\n",
              "      <td>4137.550049</td>\n",
              "      <td>4110.489990</td>\n",
              "      <td>4071.885010</td>\n",
              "      <td>4106.500000</td>\n",
              "      <td>4141.840088</td>\n",
              "      <td>4167.330078</td>\n",
              "    </tr>\n",
              "  </tbody>\n",
              "</table>\n",
              "<p>10345 rows × 26 columns</p>\n",
              "</div>\n",
              "      <button class=\"colab-df-convert\" onclick=\"convertToInteractive('df-7339abac-0245-4460-9aa6-b28786b693f7')\"\n",
              "              title=\"Convert this dataframe to an interactive table.\"\n",
              "              style=\"display:none;\">\n",
              "        \n",
              "  <svg xmlns=\"http://www.w3.org/2000/svg\" height=\"24px\"viewBox=\"0 0 24 24\"\n",
              "       width=\"24px\">\n",
              "    <path d=\"M0 0h24v24H0V0z\" fill=\"none\"/>\n",
              "    <path d=\"M18.56 5.44l.94 2.06.94-2.06 2.06-.94-2.06-.94-.94-2.06-.94 2.06-2.06.94zm-11 1L8.5 8.5l.94-2.06 2.06-.94-2.06-.94L8.5 2.5l-.94 2.06-2.06.94zm10 10l.94 2.06.94-2.06 2.06-.94-2.06-.94-.94-2.06-.94 2.06-2.06.94z\"/><path d=\"M17.41 7.96l-1.37-1.37c-.4-.4-.92-.59-1.43-.59-.52 0-1.04.2-1.43.59L10.3 9.45l-7.72 7.72c-.78.78-.78 2.05 0 2.83L4 21.41c.39.39.9.59 1.41.59.51 0 1.02-.2 1.41-.59l7.78-7.78 2.81-2.81c.8-.78.8-2.07 0-2.86zM5.41 20L4 18.59l7.72-7.72 1.47 1.35L5.41 20z\"/>\n",
              "  </svg>\n",
              "      </button>\n",
              "      \n",
              "  <style>\n",
              "    .colab-df-container {\n",
              "      display:flex;\n",
              "      flex-wrap:wrap;\n",
              "      gap: 12px;\n",
              "    }\n",
              "\n",
              "    .colab-df-convert {\n",
              "      background-color: #E8F0FE;\n",
              "      border: none;\n",
              "      border-radius: 50%;\n",
              "      cursor: pointer;\n",
              "      display: none;\n",
              "      fill: #1967D2;\n",
              "      height: 32px;\n",
              "      padding: 0 0 0 0;\n",
              "      width: 32px;\n",
              "    }\n",
              "\n",
              "    .colab-df-convert:hover {\n",
              "      background-color: #E2EBFA;\n",
              "      box-shadow: 0px 1px 2px rgba(60, 64, 67, 0.3), 0px 1px 3px 1px rgba(60, 64, 67, 0.15);\n",
              "      fill: #174EA6;\n",
              "    }\n",
              "\n",
              "    [theme=dark] .colab-df-convert {\n",
              "      background-color: #3B4455;\n",
              "      fill: #D2E3FC;\n",
              "    }\n",
              "\n",
              "    [theme=dark] .colab-df-convert:hover {\n",
              "      background-color: #434B5C;\n",
              "      box-shadow: 0px 1px 3px 1px rgba(0, 0, 0, 0.15);\n",
              "      filter: drop-shadow(0px 1px 2px rgba(0, 0, 0, 0.3));\n",
              "      fill: #FFFFFF;\n",
              "    }\n",
              "  </style>\n",
              "\n",
              "      <script>\n",
              "        const buttonEl =\n",
              "          document.querySelector('#df-7339abac-0245-4460-9aa6-b28786b693f7 button.colab-df-convert');\n",
              "        buttonEl.style.display =\n",
              "          google.colab.kernel.accessAllowed ? 'block' : 'none';\n",
              "\n",
              "        async function convertToInteractive(key) {\n",
              "          const element = document.querySelector('#df-7339abac-0245-4460-9aa6-b28786b693f7');\n",
              "          const dataTable =\n",
              "            await google.colab.kernel.invokeFunction('convertToInteractive',\n",
              "                                                     [key], {});\n",
              "          if (!dataTable) return;\n",
              "\n",
              "          const docLinkHtml = 'Like what you see? Visit the ' +\n",
              "            '<a target=\"_blank\" href=https://colab.research.google.com/notebooks/data_table.ipynb>data table notebook</a>'\n",
              "            + ' to learn more about interactive tables.';\n",
              "          element.innerHTML = '';\n",
              "          dataTable['output_type'] = 'display_data';\n",
              "          await google.colab.output.renderOutput(dataTable, element);\n",
              "          const docLink = document.createElement('div');\n",
              "          docLink.innerHTML = docLinkHtml;\n",
              "          element.appendChild(docLink);\n",
              "        }\n",
              "      </script>\n",
              "    </div>\n",
              "  </div>\n",
              "  "
            ]
          },
          "metadata": {},
          "execution_count": 8
        }
      ]
    },
    {
      "cell_type": "markdown",
      "source": [
        "Change Dataframe to numpy"
      ],
      "metadata": {
        "id": "KvH8KIGiDjx2"
      }
    },
    {
      "cell_type": "code",
      "source": [
        "shifted_df_to_numpy = shifted_df.to_numpy()"
      ],
      "metadata": {
        "id": "ATm91tENDdWC"
      },
      "execution_count": 9,
      "outputs": []
    },
    {
      "cell_type": "markdown",
      "source": [
        "Scale the values in the dataframe as values from -1 to 1"
      ],
      "metadata": {
        "id": "I8sH_2OeDpnF"
      }
    },
    {
      "cell_type": "code",
      "source": [
        "scaler = MinMaxScaler(feature_range=(-1,1))\n",
        "shifted_df_to_numpy = scaler.fit_transform(shifted_df_to_numpy)"
      ],
      "metadata": {
        "id": "grAw2l9TCChj"
      },
      "execution_count": 10,
      "outputs": []
    },
    {
      "cell_type": "markdown",
      "source": [
        "Getting the sequences as the X input features and the average prices for each corresponding day as the Y label."
      ],
      "metadata": {
        "id": "-wJOZUeHfJU7"
      }
    },
    {
      "cell_type": "code",
      "source": [
        "X = shifted_df_to_numpy[:, 1:]\n",
        "Y = shifted_df_to_numpy[:, 0]"
      ],
      "metadata": {
        "id": "cezJHYYTCCjk"
      },
      "execution_count": 11,
      "outputs": []
    },
    {
      "cell_type": "markdown",
      "source": [
        "Flip the horizontal values so the values go from oldest (average) value to current (average) value.\n"
      ],
      "metadata": {
        "id": "PPbUIqqtELvL"
      }
    },
    {
      "cell_type": "code",
      "source": [
        "X = dc(np.flip(X, axis=1))"
      ],
      "metadata": {
        "id": "jqVHQYT3Dyru"
      },
      "execution_count": 12,
      "outputs": []
    },
    {
      "cell_type": "markdown",
      "source": [
        "Split X and Y into training and testing"
      ],
      "metadata": {
        "id": "-7p3n-3kFUr6"
      }
    },
    {
      "cell_type": "code",
      "source": [
        "X_train, X_test, y_train, y_test = train_test_split(X, Y, test_size=0.05, train_size=0.95, shuffle=False)\n",
        "\n",
        "X_train.shape, X_test.shape, y_train.shape, y_test.shape"
      ],
      "metadata": {
        "colab": {
          "base_uri": "https://localhost:8080/"
        },
        "id": "rG-5C82AEbA9",
        "outputId": "b13703bc-4031-423e-eace-60c91d4bf5a7"
      },
      "execution_count": 13,
      "outputs": [
        {
          "output_type": "execute_result",
          "data": {
            "text/plain": [
              "((9827, 25), (518, 25), (9827,), (518,))"
            ]
          },
          "metadata": {},
          "execution_count": 13
        }
      ]
    },
    {
      "cell_type": "markdown",
      "source": [
        "Reshaping the input and output data arrays for training and testing the model."
      ],
      "metadata": {
        "id": "0ZoTFqSlg7SC"
      }
    },
    {
      "cell_type": "code",
      "source": [
        "X_train = X_train.reshape((-1, lookback, 1))\n",
        "X_test  = X_test.reshape((-1, lookback, 1))\n",
        "\n",
        "y_train = y_train.reshape((-1, 1))\n",
        "y_test  = y_test.reshape((-1, 1))\n",
        "\n",
        "X_train.shape, X_test.shape, y_train.shape, y_test.shape"
      ],
      "metadata": {
        "colab": {
          "base_uri": "https://localhost:8080/"
        },
        "id": "rT9lnSUgHyOI",
        "outputId": "8313d08c-5626-4cca-96c5-e2b6bb2a6440"
      },
      "execution_count": 14,
      "outputs": [
        {
          "output_type": "execute_result",
          "data": {
            "text/plain": [
              "((9827, 25, 1), (518, 25, 1), (9827, 1), (518, 1))"
            ]
          },
          "metadata": {},
          "execution_count": 14
        }
      ]
    },
    {
      "cell_type": "markdown",
      "source": [
        "Creating a training dataset with X_train and y_train AND a testing dataset with X_test and y_test."
      ],
      "metadata": {
        "id": "WRM9mAgXhQep"
      }
    },
    {
      "cell_type": "code",
      "source": [
        "class toDataset(Dataset):\n",
        "  def __init__(self, X, y):\n",
        "    self.X = np.float32(X)\n",
        "    self.y = np.float32(Y)\n",
        "\n",
        "  def __len__(self):\n",
        "    return len(self.X)\n",
        "\n",
        "  def __getitem__(self, i):\n",
        "    return self.X[i], self.y[i]\n",
        "\n",
        "train_ds = toDataset(X_train, y_train)\n",
        "test_ds  = toDataset(X_test, y_test)"
      ],
      "metadata": {
        "id": "Ji67gdcaFgYk"
      },
      "execution_count": 15,
      "outputs": []
    },
    {
      "cell_type": "markdown",
      "source": [
        "Converting the training and testing data arrays into Pytorch tensors."
      ],
      "metadata": {
        "id": "TO41jLv7if7Q"
      }
    },
    {
      "cell_type": "code",
      "source": [
        "# Checks if CUDA is available, else assign the device to be the CPU\n",
        "device = torch.device(\"cuda:0\" if torch.cuda.is_available() else \"cpu\")\n",
        "\n",
        "X_train = torch.tensor(X_train, dtype=torch.float32).to(device)\n",
        "y_train = torch.tensor(y_train, dtype=torch.float32).to(device)\n",
        "X_test = torch.tensor(X_test, dtype=torch.float32).to(device)\n",
        "y_test = torch.tensor(y_test, dtype=torch.float32).to(device)\n",
        "\n",
        "X_train.shape, X_test.shape, y_train.shape, y_test.shape"
      ],
      "metadata": {
        "colab": {
          "base_uri": "https://localhost:8080/"
        },
        "id": "9HOUf-b07Ce9",
        "outputId": "2946f9ed-5beb-4941-fcbd-1e599ac37af7"
      },
      "execution_count": 16,
      "outputs": [
        {
          "output_type": "execute_result",
          "data": {
            "text/plain": [
              "(torch.Size([9827, 25, 1]),\n",
              " torch.Size([518, 25, 1]),\n",
              " torch.Size([9827, 1]),\n",
              " torch.Size([518, 1]))"
            ]
          },
          "metadata": {},
          "execution_count": 16
        }
      ]
    },
    {
      "cell_type": "markdown",
      "source": [
        "Creates data loaders for the training and testing datasets."
      ],
      "metadata": {
        "id": "0ZRQ10kKjkZq"
      }
    },
    {
      "cell_type": "code",
      "source": [
        "D = 1  # Input size\n",
        "H = 8 # Number of Hidden Units\n",
        "batch_size = 16 # Batch Size\n",
        "\n",
        "train_loader = DataLoader(train_ds, batch_size=batch_size, shuffle=True)\n",
        "test_loader  = DataLoader(test_ds, batch_size=batch_size, shuffle=False)"
      ],
      "metadata": {
        "id": "9LYj7S-bJfkO"
      },
      "execution_count": 17,
      "outputs": []
    },
    {
      "cell_type": "markdown",
      "source": [
        "LSTM Model "
      ],
      "metadata": {
        "id": "IXZhxFTXkKwu"
      }
    },
    {
      "cell_type": "code",
      "source": [
        "class LSTM(nn.Module):\n",
        "  def __init__(self, input_size, hidden_size, num_stacked_layers):\n",
        "    super().__init__()\n",
        "    self.hidden_size = hidden_size\n",
        "    self.num_stacked_layers = num_stacked_layers\n",
        "\n",
        "    self.lstm = nn.LSTM(input_size, hidden_size, num_stacked_layers, batch_first=True)\n",
        "    self.fc   = nn.Linear(hidden_size, 1)\n",
        "\n",
        "  def forward(self, x):\n",
        "    batch_size = x.size(0)\n",
        "    h0 = torch.zeros(self.num_stacked_layers, batch_size, self.hidden_size).to(device)\n",
        "    c0 = torch.zeros(self.num_stacked_layers, batch_size, self.hidden_size).to(device)\n",
        "\n",
        "    out, _ = self.lstm(x, (h0, c0))\n",
        "    out = self.fc(out[:, -1, :])\n",
        "    return out\n",
        "\n",
        "model = LSTM(D, H, 1)\n",
        "model.to(device) # Moving model to device"
      ],
      "metadata": {
        "colab": {
          "base_uri": "https://localhost:8080/"
        },
        "id": "yFACcfScKUGK",
        "outputId": "5c2528e0-f09d-477d-a544-fbb76635135b"
      },
      "execution_count": 18,
      "outputs": [
        {
          "output_type": "execute_result",
          "data": {
            "text/plain": [
              "LSTM(\n",
              "  (lstm): LSTM(1, 8, batch_first=True)\n",
              "  (fc): Linear(in_features=8, out_features=1, bias=True)\n",
              ")"
            ]
          },
          "metadata": {},
          "execution_count": 18
        }
      ]
    },
    {
      "cell_type": "markdown",
      "source": [
        "Function to train model"
      ],
      "metadata": {
        "id": "tB4LWpKHkhaa"
      }
    },
    {
      "cell_type": "code",
      "source": [
        "def train_model():\n",
        "  model.train(True) # Enter training mode\n",
        "  print(f'Epoch: {num + 1}')\n",
        "  running_loss = 0.0\n",
        "\n",
        "  for batch_number, batch in enumerate(train_loader):\n",
        "    x_batch, y_batch = batch[0].to(device), batch[1].to(device)\n",
        "    y_batch = y_batch.unsqueeze(1)\n",
        "\n",
        "    # Calculate Loss\n",
        "    output = model(x_batch)\n",
        "    loss = criterion(output, y_batch)\n",
        "    running_loss += loss.item()\n",
        "\n",
        "    optimizer.zero_grad()\n",
        "    loss.backward()\n",
        "    optimizer.step()\n",
        "\n",
        "    if batch_number % 100 == 99:  # print every 100 batches\n",
        "      avg_loss = running_loss / 100\n",
        "      print('Batch {0}, Loss: {1:.9f}'.format(batch_number+1, avg_loss))\n",
        "\n",
        "      running_loss = 0.0\n",
        "  print()"
      ],
      "metadata": {
        "id": "3IYM06kfM4xA"
      },
      "execution_count": 19,
      "outputs": []
    },
    {
      "cell_type": "markdown",
      "source": [
        "Function to validate model"
      ],
      "metadata": {
        "id": "ieECRmd-kkig"
      }
    },
    {
      "cell_type": "code",
      "source": [
        "def validate_model():\n",
        "  model.train(False) # Leave training mode\n",
        "  running_loss = 0.0\n",
        "\n",
        "  for _,batch in enumerate(train_loader):\n",
        "    x_batch, y_batch = batch[0].to(device), batch[1].to(device)\n",
        "    y_batch = y_batch.unsqueeze(1)\n",
        "\n",
        "    with torch.no_grad():\n",
        "      output = model(x_batch)\n",
        "      loss = criterion(output, y_batch)\n",
        "      running_loss += loss\n",
        " \n",
        "  avg_loss_across_batches = running_loss / len(test_loader)\n",
        "    \n",
        "  print('Val Loss: {0:.9f}'.format(avg_loss_across_batches))"
      ],
      "metadata": {
        "id": "7n0rY1w5OJHb"
      },
      "execution_count": 20,
      "outputs": []
    },
    {
      "cell_type": "markdown",
      "source": [
        "Hyperparameters (Epochs and Learning Rate)"
      ],
      "metadata": {
        "id": "RXI1nHmrktiE"
      }
    },
    {
      "cell_type": "code",
      "source": [
        "epochs = 50\n",
        "\n",
        "learning_rate = 1e-4"
      ],
      "metadata": {
        "id": "8aoVUiG8bQfH"
      },
      "execution_count": 21,
      "outputs": []
    },
    {
      "cell_type": "markdown",
      "source": [
        "RMSELoss Class, assigning the loss function, assigning the optimizer, and train/validate model."
      ],
      "metadata": {
        "id": "JrQUu1ICk_lA"
      }
    },
    {
      "cell_type": "code",
      "source": [
        "class RMSELoss(nn.Module):\n",
        "    def __init__(self):\n",
        "        super().__init__()\n",
        "        self.mse = nn.MSELoss()\n",
        "        \n",
        "    def forward(self,yhat,y):\n",
        "        return torch.sqrt(self.mse(yhat,y))\n",
        "\n",
        "criterion = RMSELoss()\n",
        "\n",
        "optimizer = torch.optim.Adam(model.parameters(), lr=learning_rate)\n",
        "\n",
        "start_time_total = time.time()\n",
        "for num in range(epochs):\n",
        "  start_time_epoch = time.time()\n",
        "  train_model()\n",
        "  validate_model()\n",
        "  print(\"Epoch runtime: %s seconds\" % (time.time() - start_time_epoch))\n",
        "  print('===================================================')\n",
        "print(\"Training runtime: %s seconds\" % (time.time() - start_time_total))"
      ],
      "metadata": {
        "id": "2K_EMi0KKUBj",
        "colab": {
          "base_uri": "https://localhost:8080/"
        },
        "outputId": "7af2996a-b72d-4f1c-e66f-3677fe7bf1a0"
      },
      "execution_count": 22,
      "outputs": [
        {
          "output_type": "stream",
          "name": "stdout",
          "text": [
            "Epoch: 1\n",
            "Batch 100, Loss: 0.763667929\n",
            "Batch 200, Loss: 0.702579110\n",
            "Batch 300, Loss: 0.613228129\n",
            "Batch 400, Loss: 0.445139004\n",
            "Batch 500, Loss: 0.302495213\n",
            "Batch 600, Loss: 0.242179264\n",
            "\n",
            "Val Loss: 4.348782539\n",
            "Epoch runtime: 2.36594820022583 seconds\n",
            "===================================================\n",
            "Epoch: 2\n",
            "Batch 100, Loss: 0.214275372\n",
            "Batch 200, Loss: 0.185999885\n",
            "Batch 300, Loss: 0.149030317\n",
            "Batch 400, Loss: 0.107674275\n",
            "Batch 500, Loss: 0.074254963\n",
            "Batch 600, Loss: 0.062690913\n",
            "\n",
            "Val Loss: 1.079785109\n",
            "Epoch runtime: 1.668846607208252 seconds\n",
            "===================================================\n",
            "Epoch: 3\n",
            "Batch 100, Loss: 0.055604362\n",
            "Batch 200, Loss: 0.057484867\n",
            "Batch 300, Loss: 0.057398175\n",
            "Batch 400, Loss: 0.050561220\n",
            "Batch 500, Loss: 0.046943265\n",
            "Batch 600, Loss: 0.050760900\n",
            "\n",
            "Val Loss: 0.888402402\n",
            "Epoch runtime: 2.5806870460510254 seconds\n",
            "===================================================\n",
            "Epoch: 4\n",
            "Batch 100, Loss: 0.042415727\n",
            "Batch 200, Loss: 0.042046071\n",
            "Batch 300, Loss: 0.042450062\n",
            "Batch 400, Loss: 0.044276608\n",
            "Batch 500, Loss: 0.040237847\n",
            "Batch 600, Loss: 0.033353241\n",
            "\n",
            "Val Loss: 0.613823235\n",
            "Epoch runtime: 2.6418256759643555 seconds\n",
            "===================================================\n",
            "Epoch: 5\n",
            "Batch 100, Loss: 0.029486138\n",
            "Batch 200, Loss: 0.028430664\n",
            "Batch 300, Loss: 0.026471828\n",
            "Batch 400, Loss: 0.021599789\n",
            "Batch 500, Loss: 0.027904887\n",
            "Batch 600, Loss: 0.023724133\n",
            "\n",
            "Val Loss: 0.418470204\n",
            "Epoch runtime: 3.0823652744293213 seconds\n",
            "===================================================\n",
            "Epoch: 6\n",
            "Batch 100, Loss: 0.021083266\n",
            "Batch 200, Loss: 0.020951091\n",
            "Batch 300, Loss: 0.019909940\n",
            "Batch 400, Loss: 0.020379710\n",
            "Batch 500, Loss: 0.021481180\n",
            "Batch 600, Loss: 0.022935044\n",
            "\n",
            "Val Loss: 0.369213074\n",
            "Epoch runtime: 3.8075902462005615 seconds\n",
            "===================================================\n",
            "Epoch: 7\n",
            "Batch 100, Loss: 0.021833631\n",
            "Batch 200, Loss: 0.019640740\n",
            "Batch 300, Loss: 0.021817694\n",
            "Batch 400, Loss: 0.018293613\n",
            "Batch 500, Loss: 0.017134343\n",
            "Batch 600, Loss: 0.016344104\n",
            "\n",
            "Val Loss: 0.332920700\n",
            "Epoch runtime: 2.9921369552612305 seconds\n",
            "===================================================\n",
            "Epoch: 8\n",
            "Batch 100, Loss: 0.018175005\n",
            "Batch 200, Loss: 0.017262144\n",
            "Batch 300, Loss: 0.015121483\n",
            "Batch 400, Loss: 0.018300296\n",
            "Batch 500, Loss: 0.017645151\n",
            "Batch 600, Loss: 0.016371314\n",
            "\n",
            "Val Loss: 0.297957033\n",
            "Epoch runtime: 2.2032833099365234 seconds\n",
            "===================================================\n",
            "Epoch: 9\n",
            "Batch 100, Loss: 0.013354115\n",
            "Batch 200, Loss: 0.014554701\n",
            "Batch 300, Loss: 0.017073248\n",
            "Batch 400, Loss: 0.015878780\n",
            "Batch 500, Loss: 0.013727591\n",
            "Batch 600, Loss: 0.015229243\n",
            "\n",
            "Val Loss: 0.269627333\n",
            "Epoch runtime: 1.6599664688110352 seconds\n",
            "===================================================\n",
            "Epoch: 10\n",
            "Batch 100, Loss: 0.013990604\n",
            "Batch 200, Loss: 0.013194290\n",
            "Batch 300, Loss: 0.017736621\n",
            "Batch 400, Loss: 0.013343223\n",
            "Batch 500, Loss: 0.012654152\n",
            "Batch 600, Loss: 0.012127626\n",
            "\n",
            "Val Loss: 0.242715180\n",
            "Epoch runtime: 1.8754198551177979 seconds\n",
            "===================================================\n",
            "Epoch: 11\n",
            "Batch 100, Loss: 0.012592756\n",
            "Batch 200, Loss: 0.013026770\n",
            "Batch 300, Loss: 0.013228795\n",
            "Batch 400, Loss: 0.012769104\n",
            "Batch 500, Loss: 0.011859918\n",
            "Batch 600, Loss: 0.012669582\n",
            "\n",
            "Val Loss: 0.224466205\n",
            "Epoch runtime: 2.1641387939453125 seconds\n",
            "===================================================\n",
            "Epoch: 12\n",
            "Batch 100, Loss: 0.011273616\n",
            "Batch 200, Loss: 0.012833479\n",
            "Batch 300, Loss: 0.011728351\n",
            "Batch 400, Loss: 0.010992867\n",
            "Batch 500, Loss: 0.012349139\n",
            "Batch 600, Loss: 0.010934793\n",
            "\n",
            "Val Loss: 0.207345650\n",
            "Epoch runtime: 1.6499788761138916 seconds\n",
            "===================================================\n",
            "Epoch: 13\n",
            "Batch 100, Loss: 0.009786238\n",
            "Batch 200, Loss: 0.010859731\n",
            "Batch 300, Loss: 0.011346956\n",
            "Batch 400, Loss: 0.012008129\n",
            "Batch 500, Loss: 0.011137400\n",
            "Batch 600, Loss: 0.010551881\n",
            "\n",
            "Val Loss: 0.195061609\n",
            "Epoch runtime: 1.6383535861968994 seconds\n",
            "===================================================\n",
            "Epoch: 14\n",
            "Batch 100, Loss: 0.011453758\n",
            "Batch 200, Loss: 0.010157986\n",
            "Batch 300, Loss: 0.010160647\n",
            "Batch 400, Loss: 0.011150894\n",
            "Batch 500, Loss: 0.009527379\n",
            "Batch 600, Loss: 0.010491307\n",
            "\n",
            "Val Loss: 0.188176200\n",
            "Epoch runtime: 1.6486647129058838 seconds\n",
            "===================================================\n",
            "Epoch: 15\n",
            "Batch 100, Loss: 0.010282452\n",
            "Batch 200, Loss: 0.010385549\n",
            "Batch 300, Loss: 0.010750104\n",
            "Batch 400, Loss: 0.010097817\n",
            "Batch 500, Loss: 0.009773292\n",
            "Batch 600, Loss: 0.009143133\n",
            "\n",
            "Val Loss: 0.180984855\n",
            "Epoch runtime: 1.6256523132324219 seconds\n",
            "===================================================\n",
            "Epoch: 16\n",
            "Batch 100, Loss: 0.009584057\n",
            "Batch 200, Loss: 0.009550966\n",
            "Batch 300, Loss: 0.009860063\n",
            "Batch 400, Loss: 0.008826449\n",
            "Batch 500, Loss: 0.009570447\n",
            "Batch 600, Loss: 0.010712338\n",
            "\n",
            "Val Loss: 0.175423011\n",
            "Epoch runtime: 1.6465771198272705 seconds\n",
            "===================================================\n",
            "Epoch: 17\n",
            "Batch 100, Loss: 0.009334750\n",
            "Batch 200, Loss: 0.009649897\n",
            "Batch 300, Loss: 0.009732934\n",
            "Batch 400, Loss: 0.009737813\n",
            "Batch 500, Loss: 0.008937431\n",
            "Batch 600, Loss: 0.009393806\n",
            "\n",
            "Val Loss: 0.179474056\n",
            "Epoch runtime: 1.6795508861541748 seconds\n",
            "===================================================\n",
            "Epoch: 18\n",
            "Batch 100, Loss: 0.009651437\n",
            "Batch 200, Loss: 0.008801848\n",
            "Batch 300, Loss: 0.009755804\n",
            "Batch 400, Loss: 0.009672507\n",
            "Batch 500, Loss: 0.008922922\n",
            "Batch 600, Loss: 0.009157759\n",
            "\n",
            "Val Loss: 0.168306544\n",
            "Epoch runtime: 2.208597421646118 seconds\n",
            "===================================================\n",
            "Epoch: 19\n",
            "Batch 100, Loss: 0.008489666\n",
            "Batch 200, Loss: 0.008970945\n",
            "Batch 300, Loss: 0.009747671\n",
            "Batch 400, Loss: 0.008620036\n",
            "Batch 500, Loss: 0.009833333\n",
            "Batch 600, Loss: 0.009834230\n",
            "\n",
            "Val Loss: 0.171961799\n",
            "Epoch runtime: 1.6338846683502197 seconds\n",
            "===================================================\n",
            "Epoch: 20\n",
            "Batch 100, Loss: 0.008754768\n",
            "Batch 200, Loss: 0.009855541\n",
            "Batch 300, Loss: 0.008749195\n",
            "Batch 400, Loss: 0.009414971\n",
            "Batch 500, Loss: 0.008894975\n",
            "Batch 600, Loss: 0.008758491\n",
            "\n",
            "Val Loss: 0.166834861\n",
            "Epoch runtime: 1.6750903129577637 seconds\n",
            "===================================================\n",
            "Epoch: 21\n",
            "Batch 100, Loss: 0.009118398\n",
            "Batch 200, Loss: 0.008932562\n",
            "Batch 300, Loss: 0.009028793\n",
            "Batch 400, Loss: 0.009462916\n",
            "Batch 500, Loss: 0.009492549\n",
            "Batch 600, Loss: 0.008272453\n",
            "\n",
            "Val Loss: 0.165214732\n",
            "Epoch runtime: 1.6443994045257568 seconds\n",
            "===================================================\n",
            "Epoch: 22\n",
            "Batch 100, Loss: 0.009325173\n",
            "Batch 200, Loss: 0.009087812\n",
            "Batch 300, Loss: 0.008998966\n",
            "Batch 400, Loss: 0.008559688\n",
            "Batch 500, Loss: 0.008564837\n",
            "Batch 600, Loss: 0.008680393\n",
            "\n",
            "Val Loss: 0.166136801\n",
            "Epoch runtime: 1.6326684951782227 seconds\n",
            "===================================================\n",
            "Epoch: 23\n",
            "Batch 100, Loss: 0.008582016\n",
            "Batch 200, Loss: 0.008705600\n",
            "Batch 300, Loss: 0.008875664\n",
            "Batch 400, Loss: 0.008620162\n",
            "Batch 500, Loss: 0.008897327\n",
            "Batch 600, Loss: 0.009579387\n",
            "\n",
            "Val Loss: 0.173939511\n",
            "Epoch runtime: 1.6020913124084473 seconds\n",
            "===================================================\n",
            "Epoch: 24\n",
            "Batch 100, Loss: 0.008723434\n",
            "Batch 200, Loss: 0.009430562\n",
            "Batch 300, Loss: 0.007936959\n",
            "Batch 400, Loss: 0.008524611\n",
            "Batch 500, Loss: 0.009675957\n",
            "Batch 600, Loss: 0.008822045\n",
            "\n",
            "Val Loss: 0.161064729\n",
            "Epoch runtime: 1.6073997020721436 seconds\n",
            "===================================================\n",
            "Epoch: 25\n",
            "Batch 100, Loss: 0.008846364\n",
            "Batch 200, Loss: 0.009316860\n",
            "Batch 300, Loss: 0.008937697\n",
            "Batch 400, Loss: 0.008333417\n",
            "Batch 500, Loss: 0.008872827\n",
            "Batch 600, Loss: 0.007926793\n",
            "\n",
            "Val Loss: 0.158132136\n",
            "Epoch runtime: 2.1489102840423584 seconds\n",
            "===================================================\n",
            "Epoch: 26\n",
            "Batch 100, Loss: 0.008462396\n",
            "Batch 200, Loss: 0.009223816\n",
            "Batch 300, Loss: 0.008641108\n",
            "Batch 400, Loss: 0.009019190\n",
            "Batch 500, Loss: 0.008643396\n",
            "Batch 600, Loss: 0.008045206\n",
            "\n",
            "Val Loss: 0.158343241\n",
            "Epoch runtime: 1.7264714241027832 seconds\n",
            "===================================================\n",
            "Epoch: 27\n",
            "Batch 100, Loss: 0.008377527\n",
            "Batch 200, Loss: 0.009068065\n",
            "Batch 300, Loss: 0.008357359\n",
            "Batch 400, Loss: 0.008531359\n",
            "Batch 500, Loss: 0.008339137\n",
            "Batch 600, Loss: 0.008936637\n",
            "\n",
            "Val Loss: 0.156020835\n",
            "Epoch runtime: 1.6744346618652344 seconds\n",
            "===================================================\n",
            "Epoch: 28\n",
            "Batch 100, Loss: 0.008638322\n",
            "Batch 200, Loss: 0.008246078\n",
            "Batch 300, Loss: 0.008586561\n",
            "Batch 400, Loss: 0.008412873\n",
            "Batch 500, Loss: 0.008274685\n",
            "Batch 600, Loss: 0.008459931\n",
            "\n",
            "Val Loss: 0.160407230\n",
            "Epoch runtime: 1.6294376850128174 seconds\n",
            "===================================================\n",
            "Epoch: 29\n",
            "Batch 100, Loss: 0.008133292\n",
            "Batch 200, Loss: 0.008417875\n",
            "Batch 300, Loss: 0.009256662\n",
            "Batch 400, Loss: 0.008364572\n",
            "Batch 500, Loss: 0.007870370\n",
            "Batch 600, Loss: 0.008474691\n",
            "\n",
            "Val Loss: 0.162095666\n",
            "Epoch runtime: 1.6459424495697021 seconds\n",
            "===================================================\n",
            "Epoch: 30\n",
            "Batch 100, Loss: 0.008348414\n",
            "Batch 200, Loss: 0.008419043\n",
            "Batch 300, Loss: 0.008396069\n",
            "Batch 400, Loss: 0.008448280\n",
            "Batch 500, Loss: 0.008572642\n",
            "Batch 600, Loss: 0.008352444\n",
            "\n",
            "Val Loss: 0.153833315\n",
            "Epoch runtime: 1.663703441619873 seconds\n",
            "===================================================\n",
            "Epoch: 31\n",
            "Batch 100, Loss: 0.007989953\n",
            "Batch 200, Loss: 0.007743631\n",
            "Batch 300, Loss: 0.009110001\n",
            "Batch 400, Loss: 0.008521348\n",
            "Batch 500, Loss: 0.008632943\n",
            "Batch 600, Loss: 0.008194536\n",
            "\n",
            "Val Loss: 0.153314009\n",
            "Epoch runtime: 1.6609830856323242 seconds\n",
            "===================================================\n",
            "Epoch: 32\n",
            "Batch 100, Loss: 0.008033698\n",
            "Batch 200, Loss: 0.008313878\n",
            "Batch 300, Loss: 0.008804060\n",
            "Batch 400, Loss: 0.007683297\n",
            "Batch 500, Loss: 0.008516103\n",
            "Batch 600, Loss: 0.008324160\n",
            "\n",
            "Val Loss: 0.162414402\n",
            "Epoch runtime: 2.1940433979034424 seconds\n",
            "===================================================\n",
            "Epoch: 33\n",
            "Batch 100, Loss: 0.008233322\n",
            "Batch 200, Loss: 0.008079116\n",
            "Batch 300, Loss: 0.008827119\n",
            "Batch 400, Loss: 0.008238458\n",
            "Batch 500, Loss: 0.008224411\n",
            "Batch 600, Loss: 0.008235389\n",
            "\n",
            "Val Loss: 0.151220262\n",
            "Epoch runtime: 1.7132256031036377 seconds\n",
            "===================================================\n",
            "Epoch: 34\n",
            "Batch 100, Loss: 0.008333036\n",
            "Batch 200, Loss: 0.008261574\n",
            "Batch 300, Loss: 0.008308815\n",
            "Batch 400, Loss: 0.008368766\n",
            "Batch 500, Loss: 0.007985306\n",
            "Batch 600, Loss: 0.008260270\n",
            "\n",
            "Val Loss: 0.149620205\n",
            "Epoch runtime: 1.651489496231079 seconds\n",
            "===================================================\n",
            "Epoch: 35\n",
            "Batch 100, Loss: 0.007698249\n",
            "Batch 200, Loss: 0.008190041\n",
            "Batch 300, Loss: 0.008310545\n",
            "Batch 400, Loss: 0.008731064\n",
            "Batch 500, Loss: 0.007924872\n",
            "Batch 600, Loss: 0.007720209\n",
            "\n",
            "Val Loss: 0.154135182\n",
            "Epoch runtime: 1.672666072845459 seconds\n",
            "===================================================\n",
            "Epoch: 36\n",
            "Batch 100, Loss: 0.008231136\n",
            "Batch 200, Loss: 0.008128601\n",
            "Batch 300, Loss: 0.007964506\n",
            "Batch 400, Loss: 0.008511960\n",
            "Batch 500, Loss: 0.008332447\n",
            "Batch 600, Loss: 0.007671700\n",
            "\n",
            "Val Loss: 0.148328945\n",
            "Epoch runtime: 1.6318485736846924 seconds\n",
            "===================================================\n",
            "Epoch: 37\n",
            "Batch 100, Loss: 0.008434220\n",
            "Batch 200, Loss: 0.008223774\n",
            "Batch 300, Loss: 0.007993154\n",
            "Batch 400, Loss: 0.007773797\n",
            "Batch 500, Loss: 0.008142259\n",
            "Batch 600, Loss: 0.007945223\n",
            "\n",
            "Val Loss: 0.151887134\n",
            "Epoch runtime: 1.643615484237671 seconds\n",
            "===================================================\n",
            "Epoch: 38\n",
            "Batch 100, Loss: 0.007831795\n",
            "Batch 200, Loss: 0.008369938\n",
            "Batch 300, Loss: 0.008133482\n",
            "Batch 400, Loss: 0.008083625\n",
            "Batch 500, Loss: 0.008387990\n",
            "Batch 600, Loss: 0.007814574\n",
            "\n",
            "Val Loss: 0.146021023\n",
            "Epoch runtime: 2.0119402408599854 seconds\n",
            "===================================================\n",
            "Epoch: 39\n",
            "Batch 100, Loss: 0.007636243\n",
            "Batch 200, Loss: 0.007937656\n",
            "Batch 300, Loss: 0.008449826\n",
            "Batch 400, Loss: 0.008203573\n",
            "Batch 500, Loss: 0.007608337\n",
            "Batch 600, Loss: 0.007784009\n",
            "\n",
            "Val Loss: 0.147319794\n",
            "Epoch runtime: 2.269033432006836 seconds\n",
            "===================================================\n",
            "Epoch: 40\n",
            "Batch 100, Loss: 0.008278406\n",
            "Batch 200, Loss: 0.007951996\n",
            "Batch 300, Loss: 0.008250594\n",
            "Batch 400, Loss: 0.007624004\n",
            "Batch 500, Loss: 0.008022563\n",
            "Batch 600, Loss: 0.007628338\n",
            "\n",
            "Val Loss: 0.144787893\n",
            "Epoch runtime: 1.81744384765625 seconds\n",
            "===================================================\n",
            "Epoch: 41\n",
            "Batch 100, Loss: 0.007756892\n",
            "Batch 200, Loss: 0.007753230\n",
            "Batch 300, Loss: 0.008190591\n",
            "Batch 400, Loss: 0.007401765\n",
            "Batch 500, Loss: 0.007883277\n",
            "Batch 600, Loss: 0.008010206\n",
            "\n",
            "Val Loss: 0.144609049\n",
            "Epoch runtime: 1.6613514423370361 seconds\n",
            "===================================================\n",
            "Epoch: 42\n",
            "Batch 100, Loss: 0.008319585\n",
            "Batch 200, Loss: 0.007765551\n",
            "Batch 300, Loss: 0.007632286\n",
            "Batch 400, Loss: 0.007935842\n",
            "Batch 500, Loss: 0.007594901\n",
            "Batch 600, Loss: 0.007904422\n",
            "\n",
            "Val Loss: 0.143807068\n",
            "Epoch runtime: 1.643446683883667 seconds\n",
            "===================================================\n",
            "Epoch: 43\n",
            "Batch 100, Loss: 0.007350894\n",
            "Batch 200, Loss: 0.007791249\n",
            "Batch 300, Loss: 0.007756764\n",
            "Batch 400, Loss: 0.007593271\n",
            "Batch 500, Loss: 0.008531163\n",
            "Batch 600, Loss: 0.008034648\n",
            "\n",
            "Val Loss: 0.141910821\n",
            "Epoch runtime: 1.6529109477996826 seconds\n",
            "===================================================\n",
            "Epoch: 44\n",
            "Batch 100, Loss: 0.007958859\n",
            "Batch 200, Loss: 0.008238936\n",
            "Batch 300, Loss: 0.007567294\n",
            "Batch 400, Loss: 0.007776304\n",
            "Batch 500, Loss: 0.007068820\n",
            "Batch 600, Loss: 0.007966886\n",
            "\n",
            "Val Loss: 0.143630370\n",
            "Epoch runtime: 1.6897962093353271 seconds\n",
            "===================================================\n",
            "Epoch: 45\n",
            "Batch 100, Loss: 0.007507023\n",
            "Batch 200, Loss: 0.007471110\n",
            "Batch 300, Loss: 0.008153039\n",
            "Batch 400, Loss: 0.008320148\n",
            "Batch 500, Loss: 0.007350274\n",
            "Batch 600, Loss: 0.007884356\n",
            "\n",
            "Val Loss: 0.147462323\n",
            "Epoch runtime: 1.6687431335449219 seconds\n",
            "===================================================\n",
            "Epoch: 46\n",
            "Batch 100, Loss: 0.007650075\n",
            "Batch 200, Loss: 0.008072973\n",
            "Batch 300, Loss: 0.008107759\n",
            "Batch 400, Loss: 0.007718418\n",
            "Batch 500, Loss: 0.007921706\n",
            "Batch 600, Loss: 0.006812304\n",
            "\n",
            "Val Loss: 0.141796649\n",
            "Epoch runtime: 2.0144193172454834 seconds\n",
            "===================================================\n",
            "Epoch: 47\n",
            "Batch 100, Loss: 0.007137310\n",
            "Batch 200, Loss: 0.007791784\n",
            "Batch 300, Loss: 0.007824392\n",
            "Batch 400, Loss: 0.007785517\n",
            "Batch 500, Loss: 0.007579201\n",
            "Batch 600, Loss: 0.007956546\n",
            "\n",
            "Val Loss: 0.139823571\n",
            "Epoch runtime: 1.767106533050537 seconds\n",
            "===================================================\n",
            "Epoch: 48\n",
            "Batch 100, Loss: 0.007781635\n",
            "Batch 200, Loss: 0.007683233\n",
            "Batch 300, Loss: 0.007281788\n",
            "Batch 400, Loss: 0.008343413\n",
            "Batch 500, Loss: 0.007502432\n",
            "Batch 600, Loss: 0.007177524\n",
            "\n",
            "Val Loss: 0.142044306\n",
            "Epoch runtime: 1.6279187202453613 seconds\n",
            "===================================================\n",
            "Epoch: 49\n",
            "Batch 100, Loss: 0.007415588\n",
            "Batch 200, Loss: 0.007677881\n",
            "Batch 300, Loss: 0.007683886\n",
            "Batch 400, Loss: 0.007718999\n",
            "Batch 500, Loss: 0.007673946\n",
            "Batch 600, Loss: 0.007483252\n",
            "\n",
            "Val Loss: 0.144451991\n",
            "Epoch runtime: 1.6287932395935059 seconds\n",
            "===================================================\n",
            "Epoch: 50\n",
            "Batch 100, Loss: 0.008088865\n",
            "Batch 200, Loss: 0.007489209\n",
            "Batch 300, Loss: 0.006979190\n",
            "Batch 400, Loss: 0.008013866\n",
            "Batch 500, Loss: 0.007279648\n",
            "Batch 600, Loss: 0.007338349\n",
            "\n",
            "Val Loss: 0.139562458\n",
            "Epoch runtime: 2.321535348892212 seconds\n",
            "===================================================\n",
            "Training runtime: 95.38526725769043 seconds\n"
          ]
        }
      ]
    },
    {
      "cell_type": "markdown",
      "source": [
        "Make predictions on the training data."
      ],
      "metadata": {
        "id": "yDFh75FKmUzU"
      }
    },
    {
      "cell_type": "code",
      "source": [
        "with torch.no_grad():\n",
        "  predicted = model(X_train.to(device)).to('cpu').numpy()"
      ],
      "metadata": {
        "id": "I_xtCHAKVhlc"
      },
      "execution_count": 23,
      "outputs": []
    },
    {
      "cell_type": "markdown",
      "source": [
        "Obtaining the predicted values in their original scale for the training set."
      ],
      "metadata": {
        "id": "2tmRu60nmuXG"
      }
    },
    {
      "cell_type": "code",
      "source": [
        "train_predictions = predicted.flatten()\n",
        "\n",
        "dummies = np.zeros((X_train.shape[0], lookback+1))\n",
        "dummies[:, 0] = train_predictions\n",
        "dummies = scaler.inverse_transform(dummies)\n",
        "\n",
        "train_predictions = dc(dummies[:, 0])"
      ],
      "metadata": {
        "id": "TLekWXtIWOR2"
      },
      "execution_count": 24,
      "outputs": []
    },
    {
      "cell_type": "markdown",
      "source": [
        "Obtaining the true values in their orginal scale for the training set."
      ],
      "metadata": {
        "id": "uWWqQ_3qnWTJ"
      }
    },
    {
      "cell_type": "code",
      "source": [
        "dummies = np.zeros((X_train.shape[0], lookback+1))\n",
        "dummies[:, 0] = y_train.flatten().to('cpu')\n",
        "dummies = scaler.inverse_transform(dummies)\n",
        "\n",
        "new_y_train = dc(dummies[:, 0])"
      ],
      "metadata": {
        "id": "EY_9shnKWndw"
      },
      "execution_count": 25,
      "outputs": []
    },
    {
      "cell_type": "markdown",
      "source": [
        "Plotting results on the training set"
      ],
      "metadata": {
        "id": "xrnBSvwZnvRF"
      }
    },
    {
      "cell_type": "code",
      "source": [
        "plt.plot(new_y_train, label='True Values')\n",
        "plt.plot(train_predictions, label='Predicted Values')\n",
        "plt.xlabel('Day')\n",
        "plt.ylabel('Average Price')\n",
        "plt.legend()\n",
        "plt.show()"
      ],
      "metadata": {
        "id": "uZ1JUr3bW0Rs",
        "colab": {
          "base_uri": "https://localhost:8080/",
          "height": 449
        },
        "outputId": "8376252f-7ff4-4790-fee1-36622dd60cdc"
      },
      "execution_count": 26,
      "outputs": [
        {
          "output_type": "display_data",
          "data": {
            "text/plain": [
              "<Figure size 640x480 with 1 Axes>"
            ],
            "image/png": "[encoded data removed]"
          },
          "metadata": {
            "image/png": {
              "width": 588,
              "height": 432
            }
          }
        }
      ]
    },
    {
      "cell_type": "markdown",
      "source": [
        "Obtaining the predicted values in their original scale for the testing set."
      ],
      "metadata": {
        "id": "FW5lb0gOoYzv"
      }
    },
    {
      "cell_type": "code",
      "source": [
        "# Make predictions on the testing data.\n",
        "test_predictions = model(X_test.to(device)).detach().cpu().numpy().flatten()\n",
        "\n",
        "dummies = np.zeros((X_test.shape[0], lookback+1))\n",
        "dummies[:, 0] = test_predictions\n",
        "dummies = scaler.inverse_transform(dummies)\n",
        "\n",
        "test_predictions = dc(dummies[:, 0])"
      ],
      "metadata": {
        "id": "KwCgsmSbZkAT"
      },
      "execution_count": 27,
      "outputs": []
    },
    {
      "cell_type": "markdown",
      "source": [
        "Obtaining the true values in their orginal scale for the testing set."
      ],
      "metadata": {
        "id": "BL4h1t2PohHc"
      }
    },
    {
      "cell_type": "code",
      "source": [
        "dummies = np.zeros((X_test.shape[0], lookback+1))\n",
        "dummies[:, 0] = y_test.flatten().to('cpu')\n",
        "dummies = scaler.inverse_transform(dummies)\n",
        "\n",
        "new_y_test = dc(dummies[:, 0])"
      ],
      "metadata": {
        "id": "NpBEo2vwZ_iW"
      },
      "execution_count": 28,
      "outputs": []
    },
    {
      "cell_type": "markdown",
      "source": [
        "Plotting results on the testing set"
      ],
      "metadata": {
        "id": "_-joggmzosfc"
      }
    },
    {
      "cell_type": "code",
      "source": [
        "plt.plot(new_y_test, label='True Values')\n",
        "plt.plot(test_predictions, label='Predicted Values')\n",
        "plt.xlabel('Day')\n",
        "plt.ylabel('Average Price')\n",
        "plt.legend()\n",
        "plt.show()"
      ],
      "metadata": {
        "id": "Fb9sOo2zaHmN",
        "colab": {
          "base_uri": "https://localhost:8080/",
          "height": 449
        },
        "outputId": "a3b3a1a7-7866-4253-a73d-7deeb87fcf9b"
      },
      "execution_count": 29,
      "outputs": [
        {
          "output_type": "display_data",
          "data": {
            "text/plain": [
              "<Figure size 640x480 with 1 Axes>"
            ],
            "image/png": "[encoded data removed]"
          },
          "metadata": {
            "image/png": {
              "width": 580,
              "height": 432
            }
          }
        }
      ]
    },
    {
      "cell_type": "markdown",
      "source": [
        "Average Price Prediction for End Date Specified"
      ],
      "metadata": {
        "id": "j39V0dCopKfZ"
      }
    },
    {
      "cell_type": "code",
      "source": [
        "print(f'Average Price Prediction for {end_date}: {test_predictions[-1]}')"
      ],
      "metadata": {
        "colab": {
          "base_uri": "https://localhost:8080/"
        },
        "id": "2Eqbc9PKpKHr",
        "outputId": "8ab9f2d6-75dc-4136-d030-2e560ae6b3fe"
      },
      "execution_count": 30,
      "outputs": [
        {
          "output_type": "stream",
          "name": "stdout",
          "text": [
            "Average Price Prediction for 2023-06-07: 4184.9208645746585\n"
          ]
        }
      ]
    }
  ]
}